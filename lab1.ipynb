{
  "nbformat": 4,
  "nbformat_minor": 0,
  "metadata": {
    "colab": {
      "name": "lab1.ipynb",
      "private_outputs": true,
      "provenance": [],
      "collapsed_sections": [],
      "include_colab_link": true
    },
    "kernelspec": {
      "name": "python3",
      "display_name": "Python 3"
    },
    "accelerator": "GPU"
  },
  "cells": [
    {
      "cell_type": "markdown",
      "metadata": {
        "id": "view-in-github",
        "colab_type": "text"
      },
      "source": [
        "<a href=\"https://colab.research.google.com/github/EsCODEbar98/SLNN/blob/main/lab1.ipynb\" target=\"_parent\"><img src=\"https://colab.research.google.com/assets/colab-badge.svg\" alt=\"Open In Colab\"/></a>"
      ]
    },
    {
      "cell_type": "markdown",
      "metadata": {
        "id": "AgaqxrCBIHWO"
      },
      "source": [
        "# Digit recognition with a CNN"
      ]
    },
    {
      "cell_type": "markdown",
      "metadata": {
        "id": "qwPKXzBdsSai"
      },
      "source": [
        "Code to initiliaze Tensorflow 2.0 in Colab"
      ]
    },
    {
      "cell_type": "code",
      "metadata": {
        "id": "4RHeyqF6rev2"
      },
      "source": [
        "from __future__ import absolute_import, division, print_function, unicode_literals\n",
        "%tensorflow_version 2.x\n",
        "import tensorflow as tf\n",
        "%load_ext tensorboard\n",
        "import datetime\n",
        "import numpy as np\n",
        "%matplotlib inline\n",
        "import matplotlib.pyplot as plt"
      ],
      "execution_count": null,
      "outputs": []
    },
    {
      "cell_type": "markdown",
      "metadata": {
        "id": "WBmnWkSRslRb"
      },
      "source": [
        "**Import the MNIST dataset. The default loader will return tensors for the train/test partitions of the images and the labels.**"
      ]
    },
    {
      "cell_type": "code",
      "metadata": {
        "id": "Aizfyvfms_nt"
      },
      "source": [
        "mnist = tf.keras.datasets.mnist\n",
        "(x_train, y_train), (x_test, y_test) = mnist.load_data()\n",
        "x_train = x_train[:,:,:,np.newaxis]/255.0\n",
        "x_test = x_test[:,:,:,np.newaxis]/255.0 "
      ],
      "execution_count": null,
      "outputs": []
    },
    {
      "cell_type": "markdown",
      "metadata": {
        "id": "_9TtiitutEm8"
      },
      "source": [
        "**[TODO] Check the size of the loaded tensors**"
      ]
    },
    {
      "cell_type": "code",
      "metadata": {
        "id": "WlFW9kPUtpys"
      },
      "source": [
        "print(\"x_train\",x_train.shape)\r\n",
        "print(\"x_test\",x_test.shape)\r\n",
        "print(\"y_train\",y_train.shape)\r\n",
        "print(\"y_test\",y_test.shape)"
      ],
      "execution_count": null,
      "outputs": []
    },
    {
      "cell_type": "markdown",
      "metadata": {
        "id": "riIKsGjMK2KT"
      },
      "source": [
        "**Prepare Keras callback for Tensorboard**"
      ]
    },
    {
      "cell_type": "code",
      "metadata": {
        "id": "Grf-GiJFK-sS"
      },
      "source": [
        "logdir = \"logs/scalars/\" + datetime.datetime.now().strftime(\"%Y%m%d-%H%M%S\")\n",
        "%tensorboard --logdir logs\n",
        "tensorboard_callback = tf.keras.callbacks.TensorBoard(log_dir=logdir, update_freq='batch')"
      ],
      "execution_count": null,
      "outputs": []
    },
    {
      "cell_type": "markdown",
      "metadata": {
        "id": "IVlXyF_8xGsW"
      },
      "source": [
        "**[TODO] Define a Keras Sequential model with the convolutional neural network**"
      ]
    },
    {
      "cell_type": "code",
      "metadata": {
        "id": "5C6JfgQNxf9P"
      },
      "source": [
        "model= tf.keras.models.Sequential([\r\n",
        "                                   tf.keras.layers.Conv2D(64,[3,3],strides=(2,2),padding='same',activation='relu',kernel_initializer=tf.keras.initializers.glorot_normal()),\r\n",
        "                                   #we can use max pooling than strides\r\n",
        "                                   tf.keras.layers.Conv2D(32,[3,3],strides=(2,2),padding='same',activation='relu',kernel_initializer=tf.keras.initializers.glorot_normal()),\r\n",
        "                                   tf.keras.layers.Flatten(),\r\n",
        "                                   tf.keras.layers.Dense(10,activation='softmax')\r\n",
        "])"
      ],
      "execution_count": null,
      "outputs": []
    },
    {
      "cell_type": "markdown",
      "metadata": {
        "id": "L5Arv2jyxgSz"
      },
      "source": [
        "**[TODO] Compile the Keras model: specify the optimization algorithm, the loss function and the test metric**"
      ]
    },
    {
      "cell_type": "code",
      "metadata": {
        "id": "JM9_th7SxlmM"
      },
      "source": [
        "model.compile(optimizer=tf.keras.optimizers.Adam(0.01),loss='sparse_categorical_crossentropy',metrics=['accuracy'])"
      ],
      "execution_count": null,
      "outputs": []
    },
    {
      "cell_type": "markdown",
      "metadata": {
        "id": "wgY8SK7MxmBE"
      },
      "source": [
        "**[TODO] Train the Keras model**"
      ]
    },
    {
      "cell_type": "code",
      "metadata": {
        "id": "H8-x6iwSxqqM"
      },
      "source": [
        "model.fit(x_train,y_train, batch_size=32,epochs=3,callbacks=[tensorboard_callback])"
      ],
      "execution_count": null,
      "outputs": []
    },
    {
      "cell_type": "markdown",
      "metadata": {
        "id": "0QhCHMnVFWv3"
      },
      "source": [
        "**[TODO] Print model summary**"
      ]
    },
    {
      "cell_type": "code",
      "metadata": {
        "id": "VqTgD3xRFaJN"
      },
      "source": [
        "model.summary()"
      ],
      "execution_count": null,
      "outputs": []
    },
    {
      "cell_type": "markdown",
      "metadata": {
        "id": "Uva5AeZrxrf0"
      },
      "source": [
        "**[TODO] Test the Keras model by computing the accuracy the whole test set**"
      ]
    },
    {
      "cell_type": "code",
      "metadata": {
        "id": "5536AAv7x1Al"
      },
      "source": [
        "model.evaluate(x_test,y_test)"
      ],
      "execution_count": null,
      "outputs": []
    },
    {
      "cell_type": "markdown",
      "metadata": {
        "id": "TJe4IZYfGxh9"
      },
      "source": [
        "**[TODO] Visualize test image number 47 and the prediction from the neural network**"
      ]
    },
    {
      "cell_type": "code",
      "metadata": {
        "id": "6233HLAIG98R"
      },
      "source": [
        "img=x_test[47,:,:]\r\n",
        "img=img[np.newaxis,:,:]\r\n",
        "y_hat=model.predict(img)\r\n",
        "plt.imshow(img[0,:,:,0])\r\n",
        "print('Predicted digit: %d'% np.argmax(y_hat))"
      ],
      "execution_count": null,
      "outputs": []
    }
  ]
}