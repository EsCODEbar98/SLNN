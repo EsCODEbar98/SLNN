{
  "nbformat": 4,
  "nbformat_minor": 0,
  "metadata": {
    "colab": {
      "name": "lab2.ipynb",
      "private_outputs": true,
      "provenance": [],
      "toc_visible": true,
      "include_colab_link": true
    },
    "kernelspec": {
      "name": "python3",
      "display_name": "Python 3"
    },
    "accelerator": "GPU"
  },
  "cells": [
    {
      "cell_type": "markdown",
      "metadata": {
        "id": "view-in-github",
        "colab_type": "text"
      },
      "source": [
        "<a href=\"https://colab.research.google.com/github/EsCODEbar98/SLNN/blob/main/lab2.ipynb\" target=\"_parent\"><img src=\"https://colab.research.google.com/assets/colab-badge.svg\" alt=\"Open In Colab\"/></a>"
      ]
    },
    {
      "cell_type": "markdown",
      "metadata": {
        "id": "AgaqxrCBIHWO"
      },
      "source": [
        "# Transfer learning - Cats vs. Dogs"
      ]
    },
    {
      "cell_type": "markdown",
      "metadata": {
        "id": "WBmnWkSRslRb"
      },
      "source": [
        "Unzip data"
      ]
    },
    {
      "cell_type": "code",
      "metadata": {
        "id": "Aizfyvfms_nt"
      },
      "source": [
        "!unzip train.zip -d train/\n",
        "!unzip test.zip -d test/"
      ],
      "execution_count": null,
      "outputs": []
    },
    {
      "cell_type": "markdown",
      "metadata": {
        "id": "qwPKXzBdsSai"
      },
      "source": [
        "Code to initiliaze Tensorflow 2.0 in Colab"
      ]
    },
    {
      "cell_type": "code",
      "metadata": {
        "id": "4RHeyqF6rev2"
      },
      "source": [
        "from __future__ import absolute_import, division, print_function, unicode_literals\n",
        "%tensorflow_version 2.x\n",
        "import tensorflow as tf\n",
        "%load_ext tensorboard\n",
        "import datetime\n",
        "import numpy as np\n",
        "%matplotlib inline\n",
        "import matplotlib.pyplot as plt"
      ],
      "execution_count": null,
      "outputs": []
    },
    {
      "cell_type": "markdown",
      "metadata": {
        "id": "_9TtiitutEm8"
      },
      "source": [
        "**[TODO] Create a data loader function that returns a tuple with a tf.float32 tensor for the image and a label. Images must be resized to 128x128.**\n",
        "**N.B.: filenames are formatted as class.number.jpg**"
      ]
    },
    {
      "cell_type": "code",
      "metadata": {
        "id": "Qlpca_pUpjwv"
      },
      "source": [
        "def loader(filename):\r\n",
        "  label=tf.strings.split(filename,'.')[-3]\r\n",
        "  label=int(tf.strings.split(label,'/')[-1])\r\n",
        "  image= tf.io.read_file(filename)\r\n",
        "  image=tf.image.decode_jpeg(image)\r\n",
        "  image=tf.image.convert_image_dtype(image,tf.float32)\r\n",
        "  image= tf.image.resize(image,[128,128])\r\n",
        "  return image,label\r\n",
        "\r\n"
      ],
      "execution_count": null,
      "outputs": []
    },
    {
      "cell_type": "markdown",
      "metadata": {
        "id": "KYbzGd5rcyeN"
      },
      "source": [
        "**[TODO] Create a tf.Dataset, map the loader function and prepare a batch object for training**"
      ]
    },
    {
      "cell_type": "code",
      "metadata": {
        "id": "PvP9ga5RcyB-"
      },
      "source": [
        "img_list_train=tf.data.Dataset.list_files('/content/train/*.jpg')\r\n",
        "img_dataset_train=img_list_train.map(loader).batch(16)\r\n"
      ],
      "execution_count": null,
      "outputs": []
    },
    {
      "cell_type": "markdown",
      "metadata": {
        "id": "riIKsGjMK2KT"
      },
      "source": [
        "**Prepare Keras callback for Tensorboard**"
      ]
    },
    {
      "cell_type": "code",
      "metadata": {
        "id": "Grf-GiJFK-sS"
      },
      "source": [
        "logdir = \"logs/scalars/\" + datetime.datetime.now().strftime(\"%Y%m%d-%H%M%S\")\n",
        "%tensorboard --logdir logs\n",
        "tensorboard_callback = tf.keras.callbacks.TensorBoard(log_dir=logdir, update_freq='batch')"
      ],
      "execution_count": null,
      "outputs": []
    },
    {
      "cell_type": "markdown",
      "metadata": {
        "id": "IVlXyF_8xGsW"
      },
      "source": [
        "**[TODO] Import the MobileNetV2 model trained on ImageNet without the final layer**"
      ]
    },
    {
      "cell_type": "code",
      "metadata": {
        "id": "5C6JfgQNxf9P"
      },
      "source": [
        "base_model=tf.keras.applications.MobileNetV2(input_shape=(128,128,3),include_top=False,weights='imagenet')\r\n",
        "base_model.trainable= False"
      ],
      "execution_count": null,
      "outputs": []
    },
    {
      "cell_type": "markdown",
      "metadata": {
        "id": "7R4fFS0HcX-t"
      },
      "source": [
        "**[TODO] Add a final classification layer for 2 classes and create the final Keras model**"
      ]
    },
    {
      "cell_type": "code",
      "metadata": {
        "id": "GDvBDCVFcXmo"
      },
      "source": [
        "inputs=base_model.input\r\n",
        "x= base_model(inputs)\r\n",
        "x= tf.keras.layers.Flatten()(x)\r\n",
        "output= tf.keras.layers.Dense(2, activation='softmax')(x)\r\n",
        "model = tf.keras.Model(inputs, output)"
      ],
      "execution_count": null,
      "outputs": []
    },
    {
      "cell_type": "markdown",
      "metadata": {
        "id": "L5Arv2jyxgSz"
      },
      "source": [
        "**[TODO] Compile the Keras model: specify the optimization algorithm, the loss function and the test metric**"
      ]
    },
    {
      "cell_type": "code",
      "metadata": {
        "id": "JM9_th7SxlmM"
      },
      "source": [
        "model.compile(optimizer=tf.keras.optimizers.Adam(0.01),loss='sparse_categorical_crossentropy',metrics=['accuracy'])"
      ],
      "execution_count": null,
      "outputs": []
    },
    {
      "cell_type": "markdown",
      "metadata": {
        "id": "wgY8SK7MxmBE"
      },
      "source": [
        "**[TODO] Train the Keras model**"
      ]
    },
    {
      "cell_type": "code",
      "metadata": {
        "id": "H8-x6iwSxqqM"
      },
      "source": [
        "model.fit(img_dataset_train, epochs=3 ,callbacks=[tensorboard_callback])"
      ],
      "execution_count": null,
      "outputs": []
    },
    {
      "cell_type": "markdown",
      "metadata": {
        "id": "0QhCHMnVFWv3"
      },
      "source": [
        "**[TODO] Print model summary**"
      ]
    },
    {
      "cell_type": "code",
      "metadata": {
        "id": "VqTgD3xRFaJN"
      },
      "source": [
        "model.summary()"
      ],
      "execution_count": null,
      "outputs": []
    },
    {
      "cell_type": "markdown",
      "metadata": {
        "id": "Uva5AeZrxrf0"
      },
      "source": [
        "**[TODO] Test the Keras model by computing the accuracy the whole test set**"
      ]
    },
    {
      "cell_type": "code",
      "metadata": {
        "id": "5536AAv7x1Al"
      },
      "source": [
        "img_list_test=tf.data.Dataset.list_files('/content/test/*.jpg')\r\n",
        "img_dataset_test=img_list_test.map(loader).batch(32)\r\n",
        "model.evaluate(img_dataset_test)"
      ],
      "execution_count": null,
      "outputs": []
    },
    {
      "cell_type": "markdown",
      "metadata": {
        "id": "eWMWEosqqX1b"
      },
      "source": [
        "**[TODO] Load Test image 'test/0.1083.jpg', visualize it and check the network prediction**"
      ]
    },
    {
      "cell_type": "code",
      "metadata": {
        "id": "OMVCrCxsqkh_"
      },
      "source": [
        "img=img_list_test[47,:,:]\r\n",
        "img=img[np.newaxis,:,:]\r\n",
        "y_hat=model.predict(img)\r\n",
        "plt.imshow(img[0,:,:,0])\r\n",
        "print('Predicted digit: %d'% np.argmax(y_hat))"
      ],
      "execution_count": null,
      "outputs": []
    }
  ]
}